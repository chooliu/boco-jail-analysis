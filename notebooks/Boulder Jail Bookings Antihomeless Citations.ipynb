{
 "cells": [
  {
   "cell_type": "code",
   "execution_count": 1,
   "metadata": {
    "collapsed": true
   },
   "outputs": [],
   "source": [
    "import pandas as pd\n",
    "\n",
    "df = pd.read_csv('../data/all-bookings-with-charges.csv')"
   ]
  },
  {
   "cell_type": "code",
   "execution_count": 30,
   "metadata": {
    "collapsed": false
   },
   "outputs": [],
   "source": [
    "df['booking_time'] = pd.to_datetime(df['Booked'])"
   ]
  },
  {
   "cell_type": "code",
   "execution_count": 31,
   "metadata": {
    "collapsed": true
   },
   "outputs": [],
   "source": [
    "df['camping'] = df['Charge'].str.contains('CAMP')"
   ]
  },
  {
   "cell_type": "code",
   "execution_count": 67,
   "metadata": {
    "collapsed": true
   },
   "outputs": [],
   "source": [
    "df['boulder'] = df['Charge'].str.contains('BOULDER MUNI')"
   ]
  },
  {
   "cell_type": "code",
   "execution_count": 32,
   "metadata": {
    "collapsed": false
   },
   "outputs": [
    {
     "data": {
      "text/plain": [
       "False    431560\n",
       "True       2863\n",
       "Name: camping, dtype: int64"
      ]
     },
     "execution_count": 32,
     "metadata": {},
     "output_type": "execute_result"
    }
   ],
   "source": [
    "df['camping'].value_counts()"
   ]
  },
  {
   "cell_type": "code",
   "execution_count": 118,
   "metadata": {
    "collapsed": true
   },
   "outputs": [],
   "source": [
    "df['fta'] = df['Charge'].str.contains('FTA') | (df['Charge'].str.contains('FAIL') & df['Charge'].str.contains('APPEAR'))\n",
    "df['ftc'] = df['Charge'].str.contains('FTC')"
   ]
  },
  {
   "cell_type": "code",
   "execution_count": 87,
   "metadata": {
    "collapsed": true
   },
   "outputs": [],
   "source": [
    "df['urination'] = df['Charge'].str.contains('URINA')"
   ]
  },
  {
   "cell_type": "code",
   "execution_count": 107,
   "metadata": {
    "collapsed": false
   },
   "outputs": [],
   "source": [
    "df['vehicle_as_residence'] = df['Charge'].str.contains('VEH') & df['Charge'].str.contains('RESI')"
   ]
  },
  {
   "cell_type": "code",
   "execution_count": 108,
   "metadata": {
    "collapsed": true
   },
   "outputs": [],
   "source": [
    "df['public_obstruct'] = df['Charge'].str.contains('PUB') & df['Charge'].str.contains('OBSTR')"
   ]
  },
  {
   "cell_type": "code",
   "execution_count": 111,
   "metadata": {
    "collapsed": true
   },
   "outputs": [],
   "source": [
    "df['public_trespass'] = df['Charge'].str.contains('PUB') & df['Charge'].str.contains('TRESP')"
   ]
  },
  {
   "cell_type": "code",
   "execution_count": 113,
   "metadata": {
    "collapsed": true
   },
   "outputs": [],
   "source": [
    "df['begging'] = df['Charge'].str.contains('BEGG')"
   ]
  },
  {
   "cell_type": "code",
   "execution_count": 119,
   "metadata": {
    "collapsed": true
   },
   "outputs": [],
   "source": [
    "df['smoking'] = df['Charge'].str.contains('SMOK')"
   ]
  },
  {
   "cell_type": "code",
   "execution_count": 123,
   "metadata": {
    "collapsed": true
   },
   "outputs": [],
   "source": [
    "df['antihomeless'] = df['smoking'] | df['camping'] | df['urination'] | df['vehicle_as_residence'] | df['public_obstruct'] | df['public_trespass'] | df['begging']"
   ]
  },
  {
   "cell_type": "code",
   "execution_count": 124,
   "metadata": {
    "collapsed": true
   },
   "outputs": [],
   "source": [
    "df.to_csv('../data/all-bookings-with-antihomeless-charges.csv', index=False)"
   ]
  },
  {
   "cell_type": "code",
   "execution_count": 68,
   "metadata": {
    "collapsed": false
   },
   "outputs": [],
   "source": [
    "df_camping = df[df['camping']]"
   ]
  },
  {
   "cell_type": "code",
   "execution_count": 69,
   "metadata": {
    "collapsed": false
   },
   "outputs": [
    {
     "data": {
      "text/plain": [
       "1767"
      ]
     },
     "execution_count": 69,
     "metadata": {},
     "output_type": "execute_result"
    }
   ],
   "source": [
    "df_camping[df_camping['fta'] | df_camping['ftc']].shape[0]"
   ]
  },
  {
   "cell_type": "code",
   "execution_count": 70,
   "metadata": {
    "collapsed": true
   },
   "outputs": [],
   "source": [
    "df_camping_no_ftc_fta = df_camping[~(df_camping['fta'] | df_camping['ftc'])]"
   ]
  },
  {
   "cell_type": "code",
   "execution_count": 72,
   "metadata": {
    "collapsed": false
   },
   "outputs": [
    {
     "data": {
      "text/plain": [
       "1096"
      ]
     },
     "execution_count": 72,
     "metadata": {},
     "output_type": "execute_result"
    }
   ],
   "source": [
    "df_camping_no_ftc_fta.shape[0]"
   ]
  },
  {
   "cell_type": "code",
   "execution_count": 71,
   "metadata": {
    "collapsed": false
   },
   "outputs": [
    {
     "data": {
      "text/plain": [
       "876"
      ]
     },
     "execution_count": 71,
     "metadata": {},
     "output_type": "execute_result"
    }
   ],
   "source": [
    "df_camping_no_ftc_fta[df_camping_no_ftc_fta.boulder].shape[0]"
   ]
  },
  {
   "cell_type": "code",
   "execution_count": 79,
   "metadata": {
    "collapsed": false
   },
   "outputs": [],
   "source": [
    "df_smoking = df[df['charge_text'].fillna('').str.contains('SMOKING')]"
   ]
  },
  {
   "cell_type": "code",
   "execution_count": 47,
   "metadata": {
    "collapsed": false
   },
   "outputs": [
    {
     "name": "stderr",
     "output_type": "stream",
     "text": [
      "/usr/local/lib/python2.7/dist-packages/ipykernel/__main__.py:1: FutureWarning: pd.groupby() is deprecated and will be removed Please use the Series.groupby() or DataFrame.groupby() methods\n",
      "  if __name__ == '__main__':\n"
     ]
    }
   ],
   "source": [
    "camping_tickets_by_month = pd.groupby(df_camping, by=[df_camping['booking_time'].apply(lambda x: x.year), df_camping['booking_time'].apply(lambda x: x.month)]).Name.count()"
   ]
  },
  {
   "cell_type": "code",
   "execution_count": 58,
   "metadata": {
    "collapsed": false
   },
   "outputs": [
    {
     "name": "stderr",
     "output_type": "stream",
     "text": [
      "/usr/local/lib/python2.7/dist-packages/ipykernel/__main__.py:1: FutureWarning: pd.groupby() is deprecated and will be removed Please use the Series.groupby() or DataFrame.groupby() methods\n",
      "  if __name__ == '__main__':\n"
     ]
    }
   ],
   "source": [
    "camping_tickets_by_month_no_fta_ftc = pd.groupby(df_camping_no_ftc_fta, by=[df_camping_no_ftc_fta['booking_time'].apply(lambda x: x.year), df_camping_no_ftc_fta['booking_time'].apply(lambda x: x.month)]).Name.count()"
   ]
  },
  {
   "cell_type": "code",
   "execution_count": 59,
   "metadata": {
    "collapsed": false
   },
   "outputs": [],
   "source": [
    "camping_tickets_by_month.index.names = ['year', 'month']\n",
    "camping_tickets_by_month_no_fta_ftc.index.names = ['year', 'month']"
   ]
  },
  {
   "cell_type": "code",
   "execution_count": 60,
   "metadata": {
    "collapsed": false
   },
   "outputs": [],
   "source": [
    "camping_tickets_by_month.reset_index().rename(columns={'Name': 'count'}).to_csv('../data/camping-by-month.csv', index=False)\n",
    "camping_tickets_by_month_no_fta_ftc.reset_index().rename(columns={'Name': 'count'}).to_csv('../data/camping-by-month-no-fta-ftc.csv', index=False)"
   ]
  },
  {
   "cell_type": "code",
   "execution_count": 63,
   "metadata": {
    "collapsed": false
   },
   "outputs": [
    {
     "data": {
      "text/plain": [
       "(5.4527363184079602, 3.6577322175255502)"
      ]
     },
     "execution_count": 63,
     "metadata": {},
     "output_type": "execute_result"
    }
   ],
   "source": [
    "camping_tickets_by_month_no_fta_ftc.mean(), camping_tickets_by_month_no_fta_ftc.std()"
   ]
  },
  {
   "cell_type": "code",
   "execution_count": 2,
   "metadata": {
    "collapsed": false
   },
   "outputs": [
    {
     "data": {
      "text/html": [
       "<div>\n",
       "<style>\n",
       "    .dataframe thead tr:only-child th {\n",
       "        text-align: right;\n",
       "    }\n",
       "\n",
       "    .dataframe thead th {\n",
       "        text-align: left;\n",
       "    }\n",
       "\n",
       "    .dataframe tbody tr th {\n",
       "        vertical-align: top;\n",
       "    }\n",
       "</style>\n",
       "<table border=\"1\" class=\"dataframe\">\n",
       "  <thead>\n",
       "    <tr style=\"text-align: right;\">\n",
       "      <th></th>\n",
       "      <th>Name</th>\n",
       "      <th>Booking No</th>\n",
       "      <th>Booked</th>\n",
       "      <th>Location</th>\n",
       "      <th>DOB</th>\n",
       "      <th>Race</th>\n",
       "      <th>Sex</th>\n",
       "      <th>Case No</th>\n",
       "      <th>Arresting Agency</th>\n",
       "      <th>Charge</th>\n",
       "      <th>Arrest Date</th>\n",
       "      <th>charge_text</th>\n",
       "      <th>legal_code_parts</th>\n",
       "      <th>legal_code_no_1</th>\n",
       "      <th>legal_code_no_2</th>\n",
       "      <th>legal_code_no_3</th>\n",
       "      <th>legal_code_no_4</th>\n",
       "    </tr>\n",
       "  </thead>\n",
       "  <tbody>\n",
       "    <tr>\n",
       "      <th>0</th>\n",
       "      <td>ARELLANO-ORDAZ,SIMON</td>\n",
       "      <td>1106625</td>\n",
       "      <td>2011-08-09 22:20:00</td>\n",
       "      <td>BJ INW</td>\n",
       "      <td>1988-04-10</td>\n",
       "      <td>W</td>\n",
       "      <td>M</td>\n",
       "      <td>110010043</td>\n",
       "      <td>BOULDER PD</td>\n",
       "      <td>18-18-405(2)(A)(I). SALE/MFG/DIST/CONT S</td>\n",
       "      <td>2011-08-09</td>\n",
       "      <td>SALE/MFG/DIST/CONT S</td>\n",
       "      <td>(18, 18, 405, 2)</td>\n",
       "      <td>18.0</td>\n",
       "      <td>18.0</td>\n",
       "      <td>405.0</td>\n",
       "      <td>2.0</td>\n",
       "    </tr>\n",
       "    <tr>\n",
       "      <th>1</th>\n",
       "      <td>ARELLANO-ORDAZ,SIMON</td>\n",
       "      <td>1106625</td>\n",
       "      <td>2011-08-09 22:20:00</td>\n",
       "      <td>BJ INW</td>\n",
       "      <td>1988-04-10</td>\n",
       "      <td>W</td>\n",
       "      <td>M</td>\n",
       "      <td>110010043</td>\n",
       "      <td>BOULDER PD</td>\n",
       "      <td>18-6-401(7)(B)(I) CHILD ABUSE</td>\n",
       "      <td>2011-08-09</td>\n",
       "      <td>CHILD ABUSE</td>\n",
       "      <td>(18, 6, 401, 7)</td>\n",
       "      <td>18.0</td>\n",
       "      <td>6.0</td>\n",
       "      <td>401.0</td>\n",
       "      <td>7.0</td>\n",
       "    </tr>\n",
       "    <tr>\n",
       "      <th>2</th>\n",
       "      <td>ARELLANO-ORDAZ,SIMON</td>\n",
       "      <td>1106625</td>\n",
       "      <td>2011-08-09 22:20:00</td>\n",
       "      <td>BJ INW</td>\n",
       "      <td>1988-04-10</td>\n",
       "      <td>W</td>\n",
       "      <td>M</td>\n",
       "      <td>110010043</td>\n",
       "      <td>BOULDER PD</td>\n",
       "      <td>42-2-101(1) DRIVING WITHOUT A VA</td>\n",
       "      <td>2011-08-09</td>\n",
       "      <td>DRIVING WITHOUT A VA</td>\n",
       "      <td>(42, 2, 101, 1)</td>\n",
       "      <td>42.0</td>\n",
       "      <td>2.0</td>\n",
       "      <td>101.0</td>\n",
       "      <td>1.0</td>\n",
       "    </tr>\n",
       "    <tr>\n",
       "      <th>3</th>\n",
       "      <td>ARELLANO-ORDAZ,SIMON</td>\n",
       "      <td>1106625</td>\n",
       "      <td>2011-08-09 22:20:00</td>\n",
       "      <td>BJ INW</td>\n",
       "      <td>1988-04-10</td>\n",
       "      <td>W</td>\n",
       "      <td>M</td>\n",
       "      <td>110010043</td>\n",
       "      <td>BOULDER PD</td>\n",
       "      <td>42-4-203 DROVE DEFECTIVE/UNSA</td>\n",
       "      <td>2011-08-09</td>\n",
       "      <td>DROVE DEFECTIVE/UNSA</td>\n",
       "      <td>(42, 4, 203)</td>\n",
       "      <td>42.0</td>\n",
       "      <td>4.0</td>\n",
       "      <td>203.0</td>\n",
       "      <td>NaN</td>\n",
       "    </tr>\n",
       "    <tr>\n",
       "      <th>4</th>\n",
       "      <td>BECK,WILLIAM FRANCIS</td>\n",
       "      <td>1106627</td>\n",
       "      <td>2011-08-09 23:51:00</td>\n",
       "      <td>BJ BOK</td>\n",
       "      <td>1948-09-21</td>\n",
       "      <td>W</td>\n",
       "      <td>M</td>\n",
       "      <td>11-1746</td>\n",
       "      <td>UNIVERSITY OF COLORADO</td>\n",
       "      <td>BOULDER MUNI FTA:IMPROP CARE ANAM</td>\n",
       "      <td>2011-08-09</td>\n",
       "      <td>BOULDER MUNI FTA:IMPROP CARE ANAM</td>\n",
       "      <td>NaN</td>\n",
       "      <td>NaN</td>\n",
       "      <td>NaN</td>\n",
       "      <td>NaN</td>\n",
       "      <td>NaN</td>\n",
       "    </tr>\n",
       "  </tbody>\n",
       "</table>\n",
       "</div>"
      ],
      "text/plain": [
       "                   Name  Booking No               Booked Location         DOB  \\\n",
       "0  ARELLANO-ORDAZ,SIMON     1106625  2011-08-09 22:20:00   BJ INW  1988-04-10   \n",
       "1  ARELLANO-ORDAZ,SIMON     1106625  2011-08-09 22:20:00   BJ INW  1988-04-10   \n",
       "2  ARELLANO-ORDAZ,SIMON     1106625  2011-08-09 22:20:00   BJ INW  1988-04-10   \n",
       "3  ARELLANO-ORDAZ,SIMON     1106625  2011-08-09 22:20:00   BJ INW  1988-04-10   \n",
       "4  BECK,WILLIAM FRANCIS     1106627  2011-08-09 23:51:00   BJ BOK  1948-09-21   \n",
       "\n",
       "  Race Sex    Case No        Arresting Agency  \\\n",
       "0    W   M  110010043              BOULDER PD   \n",
       "1    W   M  110010043              BOULDER PD   \n",
       "2    W   M  110010043              BOULDER PD   \n",
       "3    W   M  110010043              BOULDER PD   \n",
       "4    W   M    11-1746  UNIVERSITY OF COLORADO   \n",
       "\n",
       "                                     Charge Arrest Date  \\\n",
       "0  18-18-405(2)(A)(I). SALE/MFG/DIST/CONT S  2011-08-09   \n",
       "1             18-6-401(7)(B)(I) CHILD ABUSE  2011-08-09   \n",
       "2          42-2-101(1) DRIVING WITHOUT A VA  2011-08-09   \n",
       "3             42-4-203 DROVE DEFECTIVE/UNSA  2011-08-09   \n",
       "4         BOULDER MUNI FTA:IMPROP CARE ANAM  2011-08-09   \n",
       "\n",
       "                         charge_text  legal_code_parts  legal_code_no_1  \\\n",
       "0               SALE/MFG/DIST/CONT S  (18, 18, 405, 2)             18.0   \n",
       "1                        CHILD ABUSE   (18, 6, 401, 7)             18.0   \n",
       "2               DRIVING WITHOUT A VA   (42, 2, 101, 1)             42.0   \n",
       "3               DROVE DEFECTIVE/UNSA      (42, 4, 203)             42.0   \n",
       "4  BOULDER MUNI FTA:IMPROP CARE ANAM               NaN              NaN   \n",
       "\n",
       "   legal_code_no_2  legal_code_no_3  legal_code_no_4  \n",
       "0             18.0            405.0              2.0  \n",
       "1              6.0            401.0              7.0  \n",
       "2              2.0            101.0              1.0  \n",
       "3              4.0            203.0              NaN  \n",
       "4              NaN              NaN              NaN  "
      ]
     },
     "execution_count": 2,
     "metadata": {},
     "output_type": "execute_result"
    }
   ],
   "source": [
    "df.head()"
   ]
  }
 ],
 "metadata": {
  "kernelspec": {
   "display_name": "Python 3",
   "language": "python",
   "name": "boulder-constituent"
  },
  "language_info": {
   "codemirror_mode": {
    "name": "ipython",
    "version": 3
   },
   "file_extension": ".py",
   "mimetype": "text/x-python",
   "name": "python",
   "nbconvert_exporter": "python",
   "pygments_lexer": "ipython3",
   "version": "3.5.2"
  }
 },
 "nbformat": 4,
 "nbformat_minor": 0
}
