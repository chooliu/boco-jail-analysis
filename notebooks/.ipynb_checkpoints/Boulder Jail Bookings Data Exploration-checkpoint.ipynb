{
 "cells": [
  {
   "cell_type": "markdown",
   "metadata": {},
   "source": [
    "# Exploring Boulder jail bookings data\n",
    "\n",
    "We have downloaded 16 years of jail rolls from the Boulder County Sheriff's [website](https://www.bouldercounty.org/safety/jail/listing-and-booking-reports/). We joined them in the \"Boulder Jail Bookings Data Join\" notebook. In this notebook we will take a look at basic summaries of the data."
   ]
  },
  {
   "cell_type": "code",
   "execution_count": 1,
   "metadata": {
    "collapsed": true
   },
   "outputs": [],
   "source": [
    "import pandas as pd\n",
    "\n",
    "df = pd.read_csv('../data/all-bookings.csv')"
   ]
  },
  {
   "cell_type": "code",
   "execution_count": 3,
   "metadata": {
    "collapsed": false
   },
   "outputs": [
    {
     "data": {
      "text/html": [
       "<div>\n",
       "<style>\n",
       "    .dataframe thead tr:only-child th {\n",
       "        text-align: right;\n",
       "    }\n",
       "\n",
       "    .dataframe thead th {\n",
       "        text-align: left;\n",
       "    }\n",
       "\n",
       "    .dataframe tbody tr th {\n",
       "        vertical-align: top;\n",
       "    }\n",
       "</style>\n",
       "<table border=\"1\" class=\"dataframe\">\n",
       "  <thead>\n",
       "    <tr style=\"text-align: right;\">\n",
       "      <th></th>\n",
       "      <th>Name</th>\n",
       "      <th>Booking No</th>\n",
       "      <th>Booked</th>\n",
       "      <th>Location</th>\n",
       "      <th>DOB</th>\n",
       "      <th>Race</th>\n",
       "      <th>Sex</th>\n",
       "      <th>Case No</th>\n",
       "      <th>Arresting Agency</th>\n",
       "      <th>Charge</th>\n",
       "      <th>Arrest Date</th>\n",
       "    </tr>\n",
       "  </thead>\n",
       "  <tbody>\n",
       "    <tr>\n",
       "      <th>0</th>\n",
       "      <td>ARELLANO-ORDAZ,SIMON</td>\n",
       "      <td>1106625</td>\n",
       "      <td>2011-08-09 22:20:00</td>\n",
       "      <td>BJ INW</td>\n",
       "      <td>1988-04-10 00:00:00</td>\n",
       "      <td>W</td>\n",
       "      <td>M</td>\n",
       "      <td>110010043</td>\n",
       "      <td>BOULDER PD</td>\n",
       "      <td>18-18-405(2)(A)(I). SALE/MFG/DIST/CONT S</td>\n",
       "      <td>2011-08-09 00:00:00</td>\n",
       "    </tr>\n",
       "    <tr>\n",
       "      <th>1</th>\n",
       "      <td>ARELLANO-ORDAZ,SIMON</td>\n",
       "      <td>1106625</td>\n",
       "      <td>2011-08-09 22:20:00</td>\n",
       "      <td>BJ INW</td>\n",
       "      <td>1988-04-10 00:00:00</td>\n",
       "      <td>W</td>\n",
       "      <td>M</td>\n",
       "      <td>110010043</td>\n",
       "      <td>BOULDER PD</td>\n",
       "      <td>18-6-401(7)(B)(I) CHILD ABUSE</td>\n",
       "      <td>2011-08-09 00:00:00</td>\n",
       "    </tr>\n",
       "    <tr>\n",
       "      <th>2</th>\n",
       "      <td>ARELLANO-ORDAZ,SIMON</td>\n",
       "      <td>1106625</td>\n",
       "      <td>2011-08-09 22:20:00</td>\n",
       "      <td>BJ INW</td>\n",
       "      <td>1988-04-10 00:00:00</td>\n",
       "      <td>W</td>\n",
       "      <td>M</td>\n",
       "      <td>110010043</td>\n",
       "      <td>BOULDER PD</td>\n",
       "      <td>42-2-101(1) DRIVING WITHOUT A VA</td>\n",
       "      <td>2011-08-09 00:00:00</td>\n",
       "    </tr>\n",
       "  </tbody>\n",
       "</table>\n",
       "</div>"
      ],
      "text/plain": [
       "                   Name  Booking No               Booked Location  \\\n",
       "0  ARELLANO-ORDAZ,SIMON     1106625  2011-08-09 22:20:00   BJ INW   \n",
       "1  ARELLANO-ORDAZ,SIMON     1106625  2011-08-09 22:20:00   BJ INW   \n",
       "2  ARELLANO-ORDAZ,SIMON     1106625  2011-08-09 22:20:00   BJ INW   \n",
       "\n",
       "                   DOB Race Sex    Case No Arresting Agency  \\\n",
       "0  1988-04-10 00:00:00    W   M  110010043       BOULDER PD   \n",
       "1  1988-04-10 00:00:00    W   M  110010043       BOULDER PD   \n",
       "2  1988-04-10 00:00:00    W   M  110010043       BOULDER PD   \n",
       "\n",
       "                                     Charge          Arrest Date  \n",
       "0  18-18-405(2)(A)(I). SALE/MFG/DIST/CONT S  2011-08-09 00:00:00  \n",
       "1             18-6-401(7)(B)(I) CHILD ABUSE  2011-08-09 00:00:00  \n",
       "2          42-2-101(1) DRIVING WITHOUT A VA  2011-08-09 00:00:00  "
      ]
     },
     "execution_count": 3,
     "metadata": {},
     "output_type": "execute_result"
    }
   ],
   "source": [
    "df.head(3)"
   ]
  },
  {
   "cell_type": "code",
   "execution_count": 4,
   "metadata": {
    "collapsed": false
   },
   "outputs": [
    {
     "name": "stdout",
     "output_type": "stream",
     "text": [
      "The combined data frame has 409511 rows.\n",
      "\n",
      "There are:\n",
      "159039 unique bookings\n",
      "140879 unique case numbers\n",
      "6489 unique arrest dates.\n",
      "91441 unique name + birthdays\n",
      "69 locations\n",
      "17 arresting agencies\n"
     ]
    }
   ],
   "source": [
    "print('''The combined data frame has {} rows.\n",
    "\n",
    "There are:\n",
    "{} unique bookings\n",
    "{} unique case numbers\n",
    "{} unique arrest dates.\n",
    "{} unique name + birthdays\n",
    "{} locations\n",
    "{} arresting agencies'''.format(\n",
    "    df.shape[0],\n",
    "        df['Booking No'].nunique(),\n",
    "        df['Case No'].nunique(),\n",
    "        df['Arrest Date'].nunique(),\n",
    "        (df['Name'] + df['DOB'].apply(str)).nunique(),\n",
    "        df['Location'].nunique(),\n",
    "        df['Arresting Agency'].nunique()\n",
    "))"
   ]
  },
  {
   "cell_type": "markdown",
   "metadata": {},
   "source": [
    "### Arrests by date"
   ]
  },
  {
   "cell_type": "code",
   "execution_count": 15,
   "metadata": {
    "collapsed": false
   },
   "outputs": [],
   "source": [
    "df['Arrest Date'] = pd.to_datetime(df['Arrest Date'])"
   ]
  },
  {
   "cell_type": "code",
   "execution_count": 19,
   "metadata": {
    "collapsed": false
   },
   "outputs": [],
   "source": [
    "df['arrest_year'] = df['Arrest Date'].apply(lambda x: x.year)"
   ]
  },
  {
   "cell_type": "code",
   "execution_count": 34,
   "metadata": {
    "collapsed": false
   },
   "outputs": [
    {
     "name": "stdout",
     "output_type": "stream",
     "text": [
      "Arrests by year:\n",
      "\n",
      "arrest_year\n",
      "2000    25719\n",
      "2001    26817\n",
      "2002    29629\n",
      "2003    24683\n",
      "2004    24464\n",
      "2005    25452\n",
      "2006    24780\n",
      "2007    23828\n",
      "2008    24034\n",
      "2009    22740\n",
      "2010    22831\n",
      "2011    22858\n",
      "2012    24098\n",
      "2013    24177\n",
      "2014    24335\n",
      "2015    24270\n",
      "2016    13943\n",
      "Name: arrest_year, dtype: int64\n",
      "\n"
     ]
    }
   ],
   "source": [
    "arrests_by_year = df.groupby('arrest_year').arrest_year.count()\n",
    "\n",
    "print('''Arrests by year:\n",
    "\n",
    "{}\n",
    "'''.format(arrests_by_year[arrests_by_year > 1999]))"
   ]
  },
  {
   "cell_type": "markdown",
   "metadata": {},
   "source": [
    "Looks like there are some weird arrests that occurred way before 2000. We filter them out for now."
   ]
  },
  {
   "cell_type": "code",
   "execution_count": 35,
   "metadata": {
    "collapsed": false
   },
   "outputs": [
    {
     "data": {
      "text/plain": [
       "<matplotlib.axes._subplots.AxesSubplot at 0x7fc588518be0>"
      ]
     },
     "execution_count": 35,
     "metadata": {},
     "output_type": "execute_result"
    },
    {
     "data": {
      "image/png": "[encoded data removed]",
      "text/plain": [
       "<matplotlib.figure.Figure at 0x7fc588521e10>"
      ]
     },
     "metadata": {},
     "output_type": "display_data"
    }
   ],
   "source": [
    "import matplotlib.pyplot as plt\n",
    "import seaborn as sns\n",
    "\n",
    "%matplotlib inline\n",
    "\n",
    "arrests_by_year[arrests_by_year > 1999].plot()"
   ]
  },
  {
   "cell_type": "code",
   "execution_count": 36,
   "metadata": {
    "collapsed": true
   },
   "outputs": [],
   "source": [
    "df['arrest_day_of_week'] = df['Arrest Date'].apply(lambda x: x.weekday())"
   ]
  },
  {
   "cell_type": "code",
   "execution_count": 38,
   "metadata": {
    "collapsed": false
   },
   "outputs": [
    {
     "data": {
      "text/plain": [
       "<matplotlib.axes._subplots.AxesSubplot at 0x7fc5885097b8>"
      ]
     },
     "execution_count": 38,
     "metadata": {},
     "output_type": "execute_result"
    },
    {
     "data": {
      "image/png": "[encoded data removed]",
      "text/plain": [
       "<matplotlib.figure.Figure at 0x7fc58858c9e8>"
      ]
     },
     "metadata": {},
     "output_type": "display_data"
    }
   ],
   "source": [
    "# Where 0 is Monday, and 6 is Sunday\n",
    "df.groupby('arrest_day_of_week').arrest_day_of_week.count().plot()"
   ]
  },
  {
   "cell_type": "markdown",
   "metadata": {},
   "source": [
    "There is a spike in arrests on Friday."
   ]
  },
  {
   "cell_type": "code",
   "execution_count": 44,
   "metadata": {
    "collapsed": true
   },
   "outputs": [],
   "source": [
    "df['arrest_month'] = df['Arrest Date'].apply(lambda x: x.month)"
   ]
  },
  {
   "cell_type": "code",
   "execution_count": 45,
   "metadata": {
    "collapsed": false
   },
   "outputs": [
    {
     "data": {
      "text/plain": [
       "<matplotlib.axes._subplots.AxesSubplot at 0x7fc58858a828>"
      ]
     },
     "execution_count": 45,
     "metadata": {},
     "output_type": "execute_result"
    },
    {
     "data": {
      "image/png": "[encoded data removed]",
      "text/plain": [
       "<matplotlib.figure.Figure at 0x7fc58536d198>"
      ]
     },
     "metadata": {},
     "output_type": "display_data"
    }
   ],
   "source": [
    "df.groupby('arrest_month').arrest_month.count().plot()"
   ]
  },
  {
   "cell_type": "markdown",
   "metadata": {},
   "source": [
    "This is spiky because different months have different numbers of days."
   ]
  },
  {
   "cell_type": "code",
   "execution_count": 48,
   "metadata": {
    "collapsed": false
   },
   "outputs": [],
   "source": [
    "import holidays\n",
    "\n",
    "us_holidays = holidays.UnitedStates() "
   ]
  },
  {
   "cell_type": "code",
   "execution_count": 49,
   "metadata": {
    "collapsed": true
   },
   "outputs": [],
   "source": [
    "df['is_holiday'] = df['Arrest Date'].apply(lambda x: x in us_holidays)"
   ]
  },
  {
   "cell_type": "code",
   "execution_count": 61,
   "metadata": {
    "collapsed": false
   },
   "outputs": [
    {
     "data": {
      "text/plain": [
       "is_holiday\n",
       "False    63.544155\n",
       "True     48.896373\n",
       "Name: Name, dtype: float64"
      ]
     },
     "execution_count": 61,
     "metadata": {},
     "output_type": "execute_result"
    }
   ],
   "source": [
    "df.groupby(['is_holiday', 'Arrest Date'])['Name'].count().reset_index().groupby('is_holiday').Name.mean()"
   ]
  },
  {
   "cell_type": "markdown",
   "metadata": {},
   "source": [
    "A surprising result that less arrests happen on holidays than non-holidays."
   ]
  },
  {
   "cell_type": "code",
   "execution_count": 41,
   "metadata": {
    "collapsed": false
   },
   "outputs": [],
   "source": [
    "df['arrest_day_of_month'] = df['Arrest Date'].apply(lambda x: x.day)"
   ]
  },
  {
   "cell_type": "code",
   "execution_count": 43,
   "metadata": {
    "collapsed": false
   },
   "outputs": [
    {
     "data": {
      "text/plain": [
       "<matplotlib.axes._subplots.AxesSubplot at 0x7fc5a8987198>"
      ]
     },
     "execution_count": 43,
     "metadata": {},
     "output_type": "execute_result"
    },
    {
     "data": {
      "image/png": "[encoded data removed]",
      "text/plain": [
       "<matplotlib.figure.Figure at 0x7fc588463fd0>"
      ]
     },
     "metadata": {},
     "output_type": "display_data"
    }
   ],
   "source": [
    "df.groupby('arrest_day_of_month').arrest_day_of_month.count().plot()"
   ]
  },
  {
   "cell_type": "markdown",
   "metadata": {},
   "source": [
    "### Arresting agencies"
   ]
  },
  {
   "cell_type": "code",
   "execution_count": 6,
   "metadata": {
    "collapsed": false
   },
   "outputs": [
    {
     "name": "stdout",
     "output_type": "stream",
     "text": [
      "Overall distribution of arresting agency activity:\n",
      "\n",
      "BOULDER COUNTY SHERIFFS OFFICE    142824\n",
      "BOULDER PD                        112632\n",
      "LONGMONT PD                        81488\n",
      "LAFAYETTE PD                       23691\n",
      "JAIL MITTS ONLY                    14825\n",
      "UNIVERSITY OF COLORADO             11610\n",
      "COLORADO STATE PATROL               9098\n",
      "LOUISVILLE PD                       7095\n",
      "ERIE PD                             1913\n",
      "NEDERLAND MARSHALS OFFICE           1390\n",
      "PAROLE                              1225\n",
      "BOULDER COUNTY DRUG TASK FORCE      1203\n",
      "OTHER                                279\n",
      "DISTRICT ATTORNEYS OFFICE            121\n",
      "STATE DIVISION OF WILDLIFE            82\n",
      "WARD MARSHALS OFFICE                  23\n",
      "COMMUNITY CORRECTIONS                 12\n",
      "Name: Arresting Agency, dtype: int64\n",
      "\n"
     ]
    }
   ],
   "source": [
    "print('''Overall distribution of arresting agency activity:\n",
    "\n",
    "{}\n",
    "'''.format(df['Arresting Agency'].value_counts()))"
   ]
  },
  {
   "cell_type": "code",
   "execution_count": 15,
   "metadata": {
    "collapsed": true
   },
   "outputs": [],
   "source": [
    "df.to_csv('../data/all-bookings.csv', index=False)"
   ]
  }
 ],
 "metadata": {
  "kernelspec": {
   "display_name": "Python 3",
   "language": "python",
   "name": "boulder-constituent"
  },
  "language_info": {
   "codemirror_mode": {
    "name": "ipython",
    "version": 3
   },
   "file_extension": ".py",
   "mimetype": "text/x-python",
   "name": "python",
   "nbconvert_exporter": "python",
   "pygments_lexer": "ipython3",
   "version": "3.5.2"
  }
 },
 "nbformat": 4,
 "nbformat_minor": 0
}
