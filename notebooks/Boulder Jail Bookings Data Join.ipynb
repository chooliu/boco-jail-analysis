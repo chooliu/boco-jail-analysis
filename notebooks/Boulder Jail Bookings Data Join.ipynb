{
 "cells": [
  {
   "cell_type": "markdown",
   "metadata": {},
   "source": [
    "# Joining Boulder jail bookings data\n",
    "\n",
    "We have downloaded 16 years of jail rolls from the Boulder County Sheriff's [website](https://www.bouldercounty.org/safety/jail/listing-and-booking-reports/). However, each day the records are in a separate excel spreadsheet. The goal of this notebook is to read every spreadsheet, and combine them into a single spreadsheet."
   ]
  },
  {
   "cell_type": "code",
   "execution_count": 16,
   "metadata": {
    "collapsed": true
   },
   "outputs": [],
   "source": [
    "import pandas as pd\n",
    "\n",
    "example_spreadsheet = pd.read_excel('../data/raw/2017-07-07.xlsx')"
   ]
  },
  {
   "cell_type": "code",
   "execution_count": 6,
   "metadata": {
    "collapsed": false
   },
   "outputs": [
    {
     "name": "stdout",
     "output_type": "stream",
     "text": [
      "This spreadsheet has 31 rows.\n"
     ]
    },
    {
     "data": {
      "text/html": [
       "<div>\n",
       "<style>\n",
       "    .dataframe thead tr:only-child th {\n",
       "        text-align: right;\n",
       "    }\n",
       "\n",
       "    .dataframe thead th {\n",
       "        text-align: left;\n",
       "    }\n",
       "\n",
       "    .dataframe tbody tr th {\n",
       "        vertical-align: top;\n",
       "    }\n",
       "</style>\n",
       "<table border=\"1\" class=\"dataframe\">\n",
       "  <thead>\n",
       "    <tr style=\"text-align: right;\">\n",
       "      <th></th>\n",
       "      <th>Name</th>\n",
       "      <th>Booking No</th>\n",
       "      <th>Booked</th>\n",
       "      <th>Location</th>\n",
       "      <th>DOB</th>\n",
       "      <th>Race</th>\n",
       "      <th>Sex</th>\n",
       "      <th>Case No</th>\n",
       "      <th>Arresting Agency</th>\n",
       "      <th>Charge</th>\n",
       "      <th>Arrest Date</th>\n",
       "    </tr>\n",
       "  </thead>\n",
       "  <tbody>\n",
       "    <tr>\n",
       "      <th>0</th>\n",
       "      <td>AGUIRRE,ANTONIO MIGUEL</td>\n",
       "      <td>1705254</td>\n",
       "      <td>2017-07-07 21:09:00</td>\n",
       "      <td>BJ INW</td>\n",
       "      <td>1994-12-23</td>\n",
       "      <td>W</td>\n",
       "      <td>M</td>\n",
       "      <td>201702044</td>\n",
       "      <td>LAFAYETTE PD</td>\n",
       "      <td>16-19-103 FUGITIVES FROM JUSTI</td>\n",
       "      <td>2017-07-07</td>\n",
       "    </tr>\n",
       "    <tr>\n",
       "      <th>1</th>\n",
       "      <td>ALI,HASSAN</td>\n",
       "      <td>1705237</td>\n",
       "      <td>2017-07-07 01:03:00</td>\n",
       "      <td>BJ MED</td>\n",
       "      <td>1988-09-12</td>\n",
       "      <td>W</td>\n",
       "      <td>M</td>\n",
       "      <td>170008337</td>\n",
       "      <td>BOULDER PD</td>\n",
       "      <td>18-3-206(1)(A)(B) FELONY MENACING-REAL</td>\n",
       "      <td>2017-06-06</td>\n",
       "    </tr>\n",
       "    <tr>\n",
       "      <th>2</th>\n",
       "      <td>ALI,HASSAN</td>\n",
       "      <td>1705237</td>\n",
       "      <td>2017-07-07 01:03:00</td>\n",
       "      <td>BJ MED</td>\n",
       "      <td>1988-09-12</td>\n",
       "      <td>W</td>\n",
       "      <td>M</td>\n",
       "      <td>170008337</td>\n",
       "      <td>BOULDER PD</td>\n",
       "      <td>18-4-501........... CRIMINAL MISCHIEF $1</td>\n",
       "      <td>2017-06-06</td>\n",
       "    </tr>\n",
       "  </tbody>\n",
       "</table>\n",
       "</div>"
      ],
      "text/plain": [
       "                     Name  Booking No              Booked Location        DOB  \\\n",
       "0  AGUIRRE,ANTONIO MIGUEL     1705254 2017-07-07 21:09:00   BJ INW 1994-12-23   \n",
       "1              ALI,HASSAN     1705237 2017-07-07 01:03:00   BJ MED 1988-09-12   \n",
       "2              ALI,HASSAN     1705237 2017-07-07 01:03:00   BJ MED 1988-09-12   \n",
       "\n",
       "  Race Sex    Case No Arresting Agency  \\\n",
       "0    W   M  201702044     LAFAYETTE PD   \n",
       "1    W   M  170008337       BOULDER PD   \n",
       "2    W   M  170008337       BOULDER PD   \n",
       "\n",
       "                                     Charge Arrest Date  \n",
       "0            16-19-103 FUGITIVES FROM JUSTI  2017-07-07  \n",
       "1    18-3-206(1)(A)(B) FELONY MENACING-REAL  2017-06-06  \n",
       "2  18-4-501........... CRIMINAL MISCHIEF $1  2017-06-06  "
      ]
     },
     "execution_count": 6,
     "metadata": {},
     "output_type": "execute_result"
    }
   ],
   "source": [
    "print('This spreadsheet has {} rows.'.format(example_spreadsheet.shape[0]))\n",
    "\n",
    "example_spreadsheet.head(3)"
   ]
  },
  {
   "cell_type": "code",
   "execution_count": 17,
   "metadata": {
    "collapsed": false
   },
   "outputs": [
    {
     "name": "stdout",
     "output_type": "stream",
     "text": [
      "................................................................"
     ]
    }
   ],
   "source": [
    "import os\n",
    "\n",
    "dataframes = []\n",
    "\n",
    "for i, d in enumerate(os.scandir('../data/raw')):\n",
    "    if not d.path.endswith('.xlsx'):\n",
    "        continue\n",
    "    \n",
    "    df = pd.read_excel(d.path)\n",
    "    dataframes.append(df)\n",
    "    \n",
    "    if i % 100 == 0:\n",
    "        print('.', end='')"
   ]
  },
  {
   "cell_type": "code",
   "execution_count": 18,
   "metadata": {
    "collapsed": true
   },
   "outputs": [],
   "source": [
    "df = pd.concat(dataframes)"
   ]
  },
  {
   "cell_type": "code",
   "execution_count": 19,
   "metadata": {
    "collapsed": false
   },
   "outputs": [
    {
     "name": "stdout",
     "output_type": "stream",
     "text": [
      "The combined data frame has 434423 rows.\n",
      "\n",
      "There are:\n",
      "167633 unique bookings\n",
      "146528 unique case numbers\n",
      "6690 unique arrest dates.\n",
      "95495 unique name + birthdays\n",
      "70 locations\n",
      "17 arresting agencies\n"
     ]
    }
   ],
   "source": [
    "print('''The combined data frame has {} rows.\n",
    "\n",
    "There are:\n",
    "{} unique bookings\n",
    "{} unique case numbers\n",
    "{} unique arrest dates.\n",
    "{} unique name + birthdays\n",
    "{} locations\n",
    "{} arresting agencies'''.format(\n",
    "    df.shape[0],\n",
    "        df['Booking No'].nunique(),\n",
    "        df['Case No'].nunique(),\n",
    "        df['Arrest Date'].nunique(),\n",
    "        (df['Name'] + df['DOB'].apply(str)).nunique(),\n",
    "        df['Location'].nunique(),\n",
    "        df['Arresting Agency'].nunique()\n",
    "))"
   ]
  },
  {
   "cell_type": "code",
   "execution_count": 20,
   "metadata": {
    "collapsed": true
   },
   "outputs": [],
   "source": [
    "df.to_csv('../data/all-bookings.csv', index=False)"
   ]
  }
 ],
 "metadata": {
  "kernelspec": {
   "display_name": "Python 3",
   "language": "python",
   "name": "boulder-constituent"
  },
  "language_info": {
   "codemirror_mode": {
    "name": "ipython",
    "version": 3
   },
   "file_extension": ".py",
   "mimetype": "text/x-python",
   "name": "python",
   "nbconvert_exporter": "python",
   "pygments_lexer": "ipython3",
   "version": "3.5.2"
  }
 },
 "nbformat": 4,
 "nbformat_minor": 0
}
