{
 "cells": [
  {
   "cell_type": "markdown",
   "metadata": {},
   "source": [
    "# Exploring Boulder jail bookings data\n",
    "\n",
    "We have downloaded 16 years of jail rolls from the Boulder County Sheriff's [website](https://www.bouldercounty.org/safety/jail/listing-and-booking-reports/). We joined them in the \"Boulder Jail Bookings Data Join\" notebook. In this notebook we will take a look at basic summaries of the data."
   ]
  },
  {
   "cell_type": "code",
   "execution_count": 90,
   "metadata": {
    "collapsed": true
   },
   "outputs": [],
   "source": [
    "import pandas as pd\n",
    "\n",
    "df = pd.read_csv('../data/all-bookings.csv')"
   ]
  },
  {
   "cell_type": "code",
   "execution_count": 91,
   "metadata": {
    "collapsed": false
   },
   "outputs": [
    {
     "data": {
      "text/html": [
       "<div>\n",
       "<style>\n",
       "    .dataframe thead tr:only-child th {\n",
       "        text-align: right;\n",
       "    }\n",
       "\n",
       "    .dataframe thead th {\n",
       "        text-align: left;\n",
       "    }\n",
       "\n",
       "    .dataframe tbody tr th {\n",
       "        vertical-align: top;\n",
       "    }\n",
       "</style>\n",
       "<table border=\"1\" class=\"dataframe\">\n",
       "  <thead>\n",
       "    <tr style=\"text-align: right;\">\n",
       "      <th></th>\n",
       "      <th>Name</th>\n",
       "      <th>Booking No</th>\n",
       "      <th>Booked</th>\n",
       "      <th>Location</th>\n",
       "      <th>DOB</th>\n",
       "      <th>Race</th>\n",
       "      <th>Sex</th>\n",
       "      <th>Case No</th>\n",
       "      <th>Arresting Agency</th>\n",
       "      <th>Charge</th>\n",
       "      <th>Arrest Date</th>\n",
       "    </tr>\n",
       "  </thead>\n",
       "  <tbody>\n",
       "    <tr>\n",
       "      <th>0</th>\n",
       "      <td>ARELLANO-ORDAZ,SIMON</td>\n",
       "      <td>1106625</td>\n",
       "      <td>2011-08-09 22:20:00</td>\n",
       "      <td>BJ INW</td>\n",
       "      <td>1988-04-10</td>\n",
       "      <td>W</td>\n",
       "      <td>M</td>\n",
       "      <td>110010043</td>\n",
       "      <td>BOULDER PD</td>\n",
       "      <td>18-18-405(2)(A)(I). SALE/MFG/DIST/CONT S</td>\n",
       "      <td>2011-08-09</td>\n",
       "    </tr>\n",
       "    <tr>\n",
       "      <th>1</th>\n",
       "      <td>ARELLANO-ORDAZ,SIMON</td>\n",
       "      <td>1106625</td>\n",
       "      <td>2011-08-09 22:20:00</td>\n",
       "      <td>BJ INW</td>\n",
       "      <td>1988-04-10</td>\n",
       "      <td>W</td>\n",
       "      <td>M</td>\n",
       "      <td>110010043</td>\n",
       "      <td>BOULDER PD</td>\n",
       "      <td>18-6-401(7)(B)(I) CHILD ABUSE</td>\n",
       "      <td>2011-08-09</td>\n",
       "    </tr>\n",
       "    <tr>\n",
       "      <th>2</th>\n",
       "      <td>ARELLANO-ORDAZ,SIMON</td>\n",
       "      <td>1106625</td>\n",
       "      <td>2011-08-09 22:20:00</td>\n",
       "      <td>BJ INW</td>\n",
       "      <td>1988-04-10</td>\n",
       "      <td>W</td>\n",
       "      <td>M</td>\n",
       "      <td>110010043</td>\n",
       "      <td>BOULDER PD</td>\n",
       "      <td>42-2-101(1) DRIVING WITHOUT A VA</td>\n",
       "      <td>2011-08-09</td>\n",
       "    </tr>\n",
       "  </tbody>\n",
       "</table>\n",
       "</div>"
      ],
      "text/plain": [
       "                   Name  Booking No               Booked Location         DOB  \\\n",
       "0  ARELLANO-ORDAZ,SIMON     1106625  2011-08-09 22:20:00   BJ INW  1988-04-10   \n",
       "1  ARELLANO-ORDAZ,SIMON     1106625  2011-08-09 22:20:00   BJ INW  1988-04-10   \n",
       "2  ARELLANO-ORDAZ,SIMON     1106625  2011-08-09 22:20:00   BJ INW  1988-04-10   \n",
       "\n",
       "  Race Sex    Case No Arresting Agency  \\\n",
       "0    W   M  110010043       BOULDER PD   \n",
       "1    W   M  110010043       BOULDER PD   \n",
       "2    W   M  110010043       BOULDER PD   \n",
       "\n",
       "                                     Charge Arrest Date  \n",
       "0  18-18-405(2)(A)(I). SALE/MFG/DIST/CONT S  2011-08-09  \n",
       "1             18-6-401(7)(B)(I) CHILD ABUSE  2011-08-09  \n",
       "2          42-2-101(1) DRIVING WITHOUT A VA  2011-08-09  "
      ]
     },
     "execution_count": 91,
     "metadata": {},
     "output_type": "execute_result"
    }
   ],
   "source": [
    "df.head(3)"
   ]
  },
  {
   "cell_type": "code",
   "execution_count": 92,
   "metadata": {
    "collapsed": false
   },
   "outputs": [
    {
     "name": "stdout",
     "output_type": "stream",
     "text": [
      "The combined data frame has 434423 rows.\n",
      "\n",
      "There are:\n",
      "167633 unique bookings\n",
      "147976 unique case numbers\n",
      "7655 unique arrest dates.\n",
      "95495 unique name + birthdays\n",
      "70 locations\n",
      "17 arresting agencies\n"
     ]
    }
   ],
   "source": [
    "print('''The combined data frame has {} rows.\n",
    "\n",
    "There are:\n",
    "{} unique bookings\n",
    "{} unique case numbers\n",
    "{} unique arrest dates.\n",
    "{} unique name + birthdays\n",
    "{} locations\n",
    "{} arresting agencies'''.format(\n",
    "    df.shape[0],\n",
    "        df['Booking No'].nunique(),\n",
    "        df['Case No'].nunique(),\n",
    "        df['Arrest Date'].nunique(),\n",
    "        (df['Name'] + df['DOB'].apply(str)).nunique(),\n",
    "        df['Location'].nunique(),\n",
    "        df['Arresting Agency'].nunique()\n",
    "))"
   ]
  },
  {
   "cell_type": "markdown",
   "metadata": {},
   "source": [
    "### Arrests by date"
   ]
  },
  {
   "cell_type": "code",
   "execution_count": 93,
   "metadata": {
    "collapsed": false
   },
   "outputs": [],
   "source": [
    "df['Arrest Date'] = pd.to_datetime(df['Arrest Date'])"
   ]
  },
  {
   "cell_type": "code",
   "execution_count": 94,
   "metadata": {
    "collapsed": false
   },
   "outputs": [],
   "source": [
    "df['arrest_year'] = df['Arrest Date'].apply(lambda x: x.year)"
   ]
  },
  {
   "cell_type": "code",
   "execution_count": 95,
   "metadata": {
    "collapsed": false
   },
   "outputs": [
    {
     "name": "stdout",
     "output_type": "stream",
     "text": [
      "Arrests by year:\n",
      "\n",
      "arrest_year\n",
      "2000    25726\n",
      "2001    26817\n",
      "2002    29629\n",
      "2003    24683\n",
      "2004    24464\n",
      "2005    25452\n",
      "2006    24780\n",
      "2007    23828\n",
      "2008    24034\n",
      "2009    22741\n",
      "2010    22832\n",
      "2011    22858\n",
      "2012    24102\n",
      "2013    24179\n",
      "2014    24364\n",
      "2015    24347\n",
      "2016    26127\n",
      "2017    12801\n",
      "Name: arrest_year, dtype: int64\n",
      "\n"
     ]
    }
   ],
   "source": [
    "arrests_by_year = df.groupby('arrest_year').arrest_year.count()\n",
    "\n",
    "print('''Arrests by year:\n",
    "\n",
    "{}\n",
    "'''.format(arrests_by_year[arrests_by_year > 1999]))"
   ]
  },
  {
   "cell_type": "markdown",
   "metadata": {},
   "source": [
    "Looks like there are some weird arrests that occurred way before 2000. We filter them out for now."
   ]
  },
  {
   "cell_type": "code",
   "execution_count": 96,
   "metadata": {
    "collapsed": false
   },
   "outputs": [
    {
     "data": {
      "text/plain": [
       "<matplotlib.axes._subplots.AxesSubplot at 0x7fc5852525c0>"
      ]
     },
     "execution_count": 96,
     "metadata": {},
     "output_type": "execute_result"
    },
    {
     "data": {
      "image/png": "[encoded data removed]",
      "text/plain": [
       "<matplotlib.figure.Figure at 0x7fc588521c18>"
      ]
     },
     "metadata": {},
     "output_type": "display_data"
    }
   ],
   "source": [
    "import matplotlib.pyplot as plt\n",
    "import seaborn as sns\n",
    "\n",
    "%matplotlib inline\n",
    "\n",
    "arrests_by_year[arrests_by_year > 1999].plot()"
   ]
  },
  {
   "cell_type": "code",
   "execution_count": 97,
   "metadata": {
    "collapsed": true
   },
   "outputs": [],
   "source": [
    "df['arrest_day_of_week'] = df['Arrest Date'].apply(lambda x: x.weekday())"
   ]
  },
  {
   "cell_type": "code",
   "execution_count": 98,
   "metadata": {
    "collapsed": false
   },
   "outputs": [
    {
     "data": {
      "text/plain": [
       "<matplotlib.axes._subplots.AxesSubplot at 0x7fc58589c2b0>"
      ]
     },
     "execution_count": 98,
     "metadata": {},
     "output_type": "execute_result"
    },
    {
     "data": {
      "image/png": "[encoded data removed]",
      "text/plain": [
       "<matplotlib.figure.Figure at 0x7fc58537c358>"
      ]
     },
     "metadata": {},
     "output_type": "display_data"
    }
   ],
   "source": [
    "# Where 0 is Monday, and 6 is Sunday\n",
    "df.groupby('arrest_day_of_week').arrest_day_of_week.count().plot()"
   ]
  },
  {
   "cell_type": "markdown",
   "metadata": {},
   "source": [
    "There is a spike in arrests on Friday."
   ]
  },
  {
   "cell_type": "code",
   "execution_count": 99,
   "metadata": {
    "collapsed": true
   },
   "outputs": [],
   "source": [
    "df['arrest_month'] = df['Arrest Date'].apply(lambda x: x.month)"
   ]
  },
  {
   "cell_type": "code",
   "execution_count": 100,
   "metadata": {
    "collapsed": false
   },
   "outputs": [
    {
     "data": {
      "text/plain": [
       "<matplotlib.axes._subplots.AxesSubplot at 0x7fc588537668>"
      ]
     },
     "execution_count": 100,
     "metadata": {},
     "output_type": "execute_result"
    },
    {
     "data": {
      "image/png": "[encoded data removed]",
      "text/plain": [
       "<matplotlib.figure.Figure at 0x7fc585896dd8>"
      ]
     },
     "metadata": {},
     "output_type": "display_data"
    }
   ],
   "source": [
    "df.groupby('arrest_month').arrest_month.count().plot()"
   ]
  },
  {
   "cell_type": "markdown",
   "metadata": {},
   "source": [
    "This is spiky because different months have different numbers of days."
   ]
  },
  {
   "cell_type": "code",
   "execution_count": 48,
   "metadata": {
    "collapsed": false
   },
   "outputs": [],
   "source": [
    "import holidays\n",
    "\n",
    "us_holidays = holidays.UnitedStates() "
   ]
  },
  {
   "cell_type": "code",
   "execution_count": 49,
   "metadata": {
    "collapsed": true
   },
   "outputs": [],
   "source": [
    "df['is_holiday'] = df['Arrest Date'].apply(lambda x: x in us_holidays)"
   ]
  },
  {
   "cell_type": "code",
   "execution_count": 61,
   "metadata": {
    "collapsed": false
   },
   "outputs": [
    {
     "data": {
      "text/plain": [
       "is_holiday\n",
       "False    63.544155\n",
       "True     48.896373\n",
       "Name: Name, dtype: float64"
      ]
     },
     "execution_count": 61,
     "metadata": {},
     "output_type": "execute_result"
    }
   ],
   "source": [
    "df.groupby(['is_holiday', 'Arrest Date'])['Name'].count().reset_index().groupby('is_holiday').Name.mean()"
   ]
  },
  {
   "cell_type": "markdown",
   "metadata": {},
   "source": [
    "A surprising result that less arrests happen on holidays than non-holidays."
   ]
  },
  {
   "cell_type": "code",
   "execution_count": 101,
   "metadata": {
    "collapsed": false
   },
   "outputs": [],
   "source": [
    "df['arrest_day_of_month'] = df['Arrest Date'].apply(lambda x: x.day)"
   ]
  },
  {
   "cell_type": "code",
   "execution_count": 102,
   "metadata": {
    "collapsed": false
   },
   "outputs": [
    {
     "data": {
      "text/plain": [
       "<matplotlib.axes._subplots.AxesSubplot at 0x7fc5857cd828>"
      ]
     },
     "execution_count": 102,
     "metadata": {},
     "output_type": "execute_result"
    },
    {
     "data": {
      "image/png": "[encoded data removed]",
      "text/plain": [
       "<matplotlib.figure.Figure at 0x7fc5858ed550>"
      ]
     },
     "metadata": {},
     "output_type": "display_data"
    }
   ],
   "source": [
    "df.groupby('arrest_day_of_month').arrest_day_of_month.count().plot()"
   ]
  },
  {
   "cell_type": "code",
   "execution_count": 103,
   "metadata": {
    "collapsed": false
   },
   "outputs": [],
   "source": [
    "df['Booked'] = pd.to_datetime(df['Booked'])\n",
    "df['booked_year'] = df.Booked.apply(lambda x: x.year)\n",
    "df['booked_month'] = df.Booked.apply(lambda x: x.month)"
   ]
  },
  {
   "cell_type": "markdown",
   "metadata": {},
   "source": [
    "### Arresting agencies"
   ]
  },
  {
   "cell_type": "code",
   "execution_count": 107,
   "metadata": {
    "collapsed": false
   },
   "outputs": [
    {
     "name": "stdout",
     "output_type": "stream",
     "text": [
      "Overall distribution of arresting agency activity:\n",
      "\n",
      "BOULDER COUNTY SHERIFFS OFFICE    152564\n",
      "BOULDER PD                        118867\n",
      "LONGMONT PD                        87293\n",
      "LAFAYETTE PD                       25000\n",
      "JAIL MITTS ONLY                    14828\n",
      "UNIVERSITY OF COLORADO             12026\n",
      "COLORADO STATE PATROL               9420\n",
      "LOUISVILLE PD                       7843\n",
      "ERIE PD                             2091\n",
      "NEDERLAND MARSHALS OFFICE           1470\n",
      "PAROLE                              1279\n",
      "BOULDER COUNTY DRUG TASK FORCE      1214\n",
      "OTHER                                288\n",
      "DISTRICT ATTORNEYS OFFICE            122\n",
      "STATE DIVISION OF WILDLIFE            82\n",
      "WARD MARSHALS OFFICE                  24\n",
      "COMMUNITY CORRECTIONS                 12\n",
      "Name: Arresting Agency, dtype: int64\n",
      "\n"
     ]
    }
   ],
   "source": [
    "print('''Overall distribution of arresting agency activity:\n",
    "\n",
    "{}\n",
    "'''.format(df['Arresting Agency'].value_counts()))"
   ]
  },
  {
   "cell_type": "code",
   "execution_count": 15,
   "metadata": {
    "collapsed": true
   },
   "outputs": [],
   "source": [
    "df.to_csv('../data/all-bookings.csv', index=False)"
   ]
  }
 ],
 "metadata": {
  "kernelspec": {
   "display_name": "Python 3",
   "language": "python",
   "name": "boulder-constituent"
  },
  "language_info": {
   "codemirror_mode": {
    "name": "ipython",
    "version": 3
   },
   "file_extension": ".py",
   "mimetype": "text/x-python",
   "name": "python",
   "nbconvert_exporter": "python",
   "pygments_lexer": "ipython3",
   "version": "3.5.2"
  }
 },
 "nbformat": 4,
 "nbformat_minor": 0
}
